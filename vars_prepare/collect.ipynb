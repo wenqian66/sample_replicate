{
 "cells": [
  {
   "cell_type": "code",
   "execution_count": 1,
   "metadata": {},
   "outputs": [],
   "source": [
    "#the code is to replicate the paper \"Annual report readability, current earnings,and earnings persistence\" by Feng Li, 2008\n",
    "#using the data from 2016 to 2022\n",
    "#collect my sample as follows: \n",
    "#(1)start with the intersection of CRSP-COMPUSTAT firm-years.\n",
    "#(2) match GVKEY (from COMPUSTAT) and PERMNO (from CRSP) with the Central Index Key (CIK) used by SEC online Edgar system. Firms without matching CIK are dropped. \n",
    "#(3)download the 10-K filings from Edgar for every remaining firm-year. Those firm-years that do not have electronic 10-K filings on Edgar are then excluded."
   ]
  },
  {
   "cell_type": "code",
   "execution_count": 3,
   "metadata": {},
   "outputs": [],
   "source": [
    "import pandas as pd\n",
    "import os\n",
    "import requests\n",
    "from bs4 import BeautifulSoup\n",
    "import re"
   ]
  },
  {
   "cell_type": "code",
   "execution_count": null,
   "metadata": {},
   "outputs": [],
   "source": [
    "# 1. Load the data and merge to get CIK-CRSP-COMPUSTAT firm-years.\n",
    "# 2. Download the 10-K filings from Edgar for every remaining firm-year."
   ]
  },
  {
   "cell_type": "code",
   "execution_count": 3,
   "metadata": {},
   "outputs": [],
   "source": [
    "####################\n",
    "# 1. Load the data and merge to get CIK-CRSP-COMPUSTAT firm-years.\n",
    "####################"
   ]
  },
  {
   "cell_type": "code",
   "execution_count": 2,
   "metadata": {},
   "outputs": [],
   "source": [
    "compustat = pd.read_csv('COMPUSTAT.csv')\n",
    "compustat['adate'] = pd.to_datetime(compustat['adate'])\n",
    "compustat['year'] = compustat['adate'].dt.year\n",
    "compustat_year = compustat[['gvkey', 'permno', 'year']].drop_duplicates()"
   ]
  },
  {
   "cell_type": "code",
   "execution_count": 3,
   "metadata": {},
   "outputs": [
    {
     "name": "stderr",
     "output_type": "stream",
     "text": [
      "/var/folders/4t/w05mrsdn0r9d85szm0g3kg740000gn/T/ipykernel_61115/3928353596.py:1: DtypeWarning: Columns (5,9,18,24,38,40,49,58) have mixed types. Specify dtype option on import or set low_memory=False.\n",
      "  CRSP = pd.read_csv('CRSP_Monthly_Stock.csv')\n"
     ]
    }
   ],
   "source": [
    "CRSP = pd.read_csv('CRSP_Monthly_Stock.csv')\n",
    "CRSP['date'] = pd.to_datetime(CRSP['date'])\n",
    "CRSP['year'] = CRSP['date'].dt.year\n",
    "CRSP_year = CRSP[['PERMNO', 'year']].drop_duplicates()"
   ]
  },
  {
   "cell_type": "code",
   "execution_count": 4,
   "metadata": {},
   "outputs": [],
   "source": [
    "merged = pd.merge(compustat_year, CRSP_year, left_on=['permno', 'year'], right_on=['PERMNO', 'year'], how='inner')"
   ]
  },
  {
   "cell_type": "code",
   "execution_count": 5,
   "metadata": {},
   "outputs": [
    {
     "name": "stderr",
     "output_type": "stream",
     "text": [
      "/var/folders/4t/w05mrsdn0r9d85szm0g3kg740000gn/T/ipykernel_61115/3890844532.py:1: DtypeWarning: Columns (34) have mixed types. Specify dtype option on import or set low_memory=False.\n",
      "  cik = pd.read_csv('gvkeycik.csv')\n"
     ]
    }
   ],
   "source": [
    "cik = pd.read_csv('gvkeycik.csv')\n",
    "cik_gvkey = cik[['gvkey', 'cik']].drop_duplicates()\n",
    "cik_gvkey = cik_gvkey.dropna()"
   ]
  },
  {
   "cell_type": "code",
   "execution_count": 7,
   "metadata": {},
   "outputs": [],
   "source": [
    "intersection = pd.merge(merged, cik_gvkey, on=['gvkey'], how='inner')\n",
    "intersection['gvkey'] = intersection['gvkey'].astype(str).str.zfill(6)\n",
    "intersection['permno'] = intersection['permno'].astype(str).str.zfill(5)\n",
    "intersection['cik'] = intersection['cik'].astype('Int64').astype(str)\n",
    "intersection['year'] = intersection['year'].astype('Int64')"
   ]
  },
  {
   "cell_type": "code",
   "execution_count": 8,
   "metadata": {},
   "outputs": [
    {
     "data": {
      "text/html": [
       "<div>\n",
       "<style scoped>\n",
       "    .dataframe tbody tr th:only-of-type {\n",
       "        vertical-align: middle;\n",
       "    }\n",
       "\n",
       "    .dataframe tbody tr th {\n",
       "        vertical-align: top;\n",
       "    }\n",
       "\n",
       "    .dataframe thead th {\n",
       "        text-align: right;\n",
       "    }\n",
       "</style>\n",
       "<table border=\"1\" class=\"dataframe\">\n",
       "  <thead>\n",
       "    <tr style=\"text-align: right;\">\n",
       "      <th></th>\n",
       "      <th>gvkey</th>\n",
       "      <th>permno</th>\n",
       "      <th>year</th>\n",
       "      <th>PERMNO</th>\n",
       "      <th>cik</th>\n",
       "    </tr>\n",
       "  </thead>\n",
       "  <tbody>\n",
       "    <tr>\n",
       "      <th>0</th>\n",
       "      <td>001004</td>\n",
       "      <td>54594</td>\n",
       "      <td>2016</td>\n",
       "      <td>54594</td>\n",
       "      <td>1750</td>\n",
       "    </tr>\n",
       "    <tr>\n",
       "      <th>1</th>\n",
       "      <td>001004</td>\n",
       "      <td>54594</td>\n",
       "      <td>2017</td>\n",
       "      <td>54594</td>\n",
       "      <td>1750</td>\n",
       "    </tr>\n",
       "    <tr>\n",
       "      <th>2</th>\n",
       "      <td>001004</td>\n",
       "      <td>54594</td>\n",
       "      <td>2018</td>\n",
       "      <td>54594</td>\n",
       "      <td>1750</td>\n",
       "    </tr>\n",
       "    <tr>\n",
       "      <th>3</th>\n",
       "      <td>001004</td>\n",
       "      <td>54594</td>\n",
       "      <td>2019</td>\n",
       "      <td>54594</td>\n",
       "      <td>1750</td>\n",
       "    </tr>\n",
       "    <tr>\n",
       "      <th>4</th>\n",
       "      <td>001004</td>\n",
       "      <td>54594</td>\n",
       "      <td>2020</td>\n",
       "      <td>54594</td>\n",
       "      <td>1750</td>\n",
       "    </tr>\n",
       "    <tr>\n",
       "      <th>5</th>\n",
       "      <td>001004</td>\n",
       "      <td>54594</td>\n",
       "      <td>2021</td>\n",
       "      <td>54594</td>\n",
       "      <td>1750</td>\n",
       "    </tr>\n",
       "    <tr>\n",
       "      <th>6</th>\n",
       "      <td>001004</td>\n",
       "      <td>54594</td>\n",
       "      <td>2022</td>\n",
       "      <td>54594</td>\n",
       "      <td>1750</td>\n",
       "    </tr>\n",
       "    <tr>\n",
       "      <th>7</th>\n",
       "      <td>001045</td>\n",
       "      <td>21020</td>\n",
       "      <td>2016</td>\n",
       "      <td>21020</td>\n",
       "      <td>6201</td>\n",
       "    </tr>\n",
       "    <tr>\n",
       "      <th>8</th>\n",
       "      <td>001045</td>\n",
       "      <td>21020</td>\n",
       "      <td>2017</td>\n",
       "      <td>21020</td>\n",
       "      <td>6201</td>\n",
       "    </tr>\n",
       "    <tr>\n",
       "      <th>9</th>\n",
       "      <td>001045</td>\n",
       "      <td>21020</td>\n",
       "      <td>2018</td>\n",
       "      <td>21020</td>\n",
       "      <td>6201</td>\n",
       "    </tr>\n",
       "  </tbody>\n",
       "</table>\n",
       "</div>"
      ],
      "text/plain": [
       "    gvkey permno  year  PERMNO   cik\n",
       "0  001004  54594  2016   54594  1750\n",
       "1  001004  54594  2017   54594  1750\n",
       "2  001004  54594  2018   54594  1750\n",
       "3  001004  54594  2019   54594  1750\n",
       "4  001004  54594  2020   54594  1750\n",
       "5  001004  54594  2021   54594  1750\n",
       "6  001004  54594  2022   54594  1750\n",
       "7  001045  21020  2016   21020  6201\n",
       "8  001045  21020  2017   21020  6201\n",
       "9  001045  21020  2018   21020  6201"
      ]
     },
     "execution_count": 8,
     "metadata": {},
     "output_type": "execute_result"
    }
   ],
   "source": [
    "intersection.head(10)"
   ]
  },
  {
   "cell_type": "code",
   "execution_count": null,
   "metadata": {},
   "outputs": [],
   "source": [
    "####################\n",
    "# 2. Download the 10-K filings from Edgar for every remaining firm-year.\n",
    "####################"
   ]
  },
  {
   "cell_type": "code",
   "execution_count": null,
   "metadata": {},
   "outputs": [],
   "source": [
    "from edgar import Company,set_identity\n",
    "set_identity(\"Wenqian Chen wc664@cornell.edu\")\n",
    "\n",
    "cik_list = intersection[[\"cik\"]].drop_duplicates().values.flatten()"
   ]
  },
  {
   "cell_type": "code",
   "execution_count": 109,
   "metadata": {},
   "outputs": [
    {
     "name": "stderr",
     "output_type": "stream",
     "text": [
      "stamina.retry_scheduled\n"
     ]
    }
   ],
   "source": [
    "'''\n",
    "filing_data = []\n",
    "\n",
    "for cik in cik_list:\n",
    "    company = Company(cik)\n",
    "    filings = company.get_filings(form=\"10-K\")\n",
    "\n",
    "    for j in range(min(10, len(filings))):  \n",
    "        filing_date = filings[j].filing_date\n",
    "        filing_url = filings[j].text_url\n",
    "        \n",
    "        filing_data.append([cik, filing_date, filing_url])\n",
    "\n",
    "df_filings = pd.DataFrame(filing_data, columns=[\"cik\", \"filing_date\", \"url\"])\n",
    "df_filings.to_csv(\"10-k_links.csv\")\n",
    "'''"
   ]
  },
  {
   "cell_type": "code",
   "execution_count": null,
   "metadata": {},
   "outputs": [],
   "source": [
    "df_filings = pd.read_csv(\"10-k_links.csv\")\n",
    "df_filings[\"filing_date\"] = pd.to_datetime(df_filings[\"filing_date\"], errors='coerce')\n",
    "df_filings[\"year\"] = df_filings[\"filing_date\"].dt.year\n",
    "df_filings['cik'] = df_filings['cik'].astype(str)"
   ]
  },
  {
   "cell_type": "code",
   "execution_count": 25,
   "metadata": {},
   "outputs": [],
   "source": [
    "merged_df = pd.merge(intersection, df_filings, on=['cik', 'year'], how='inner')\n",
    "merged_df = merged_df.drop(columns=['PERMNO'])"
   ]
  },
  {
   "cell_type": "code",
   "execution_count": null,
   "metadata": {},
   "outputs": [],
   "source": [
    "# below is the code sample to download the 10-K filings in 2017"
   ]
  },
  {
   "cell_type": "code",
   "execution_count": 35,
   "metadata": {},
   "outputs": [],
   "source": [
    "merged_df_2017 = merged_df[merged_df[\"year\"] == 2017]"
   ]
  },
  {
   "cell_type": "code",
   "execution_count": 36,
   "metadata": {},
   "outputs": [],
   "source": [
    "dest_dir = \"./fillings/2017\"\n",
    "os.makedirs(dest_dir, exist_ok=True)\n",
    "\n",
    "def process_10k(df):\n",
    "    url = df[\"url\"]\n",
    "    cik = df[\"cik\"]\n",
    "    date_filed = df[\"filing_date\"]\n",
    "\n",
    "    try:\n",
    "        response = requests.get(url, headers={\"User-Agent\": \"wc664@cornell.edu\"})\n",
    "        response.raise_for_status()\n",
    "        content = response.content.decode('utf8')\n",
    "        soup = BeautifulSoup(content, \"html5lib\")\n",
    "        soup = soup.text\n",
    "        lines=soup.split(\"\\n\")\n",
    "\n",
    "        file_name = f\"{cik}_{date_filed.strftime('%Y%m%d')}.txt\"\n",
    "        dest_path = os.path.join(dest_dir, file_name)\n",
    "        with open(dest_path, 'w', encoding='utf-8') as fx:\n",
    "            for line in lines:\n",
    "                fx.write(line + '\\n')\n",
    "                \n",
    "        print(f\"Successfully saved {file_name}\")\n",
    "        \n",
    "    except requests.exceptions.RequestException as e:\n",
    "        print(f\"Request error for {cik} ({date_filed}): {e}\")\n",
    "        \n",
    "    except Exception as e:\n",
    "        print(f\"Error processing {cik} ({date_filed}): {e}\")"
   ]
  },
  {
   "cell_type": "code",
   "execution_count": null,
   "metadata": {},
   "outputs": [],
   "source": [
    "#merged_df.apply(process_10k, axis=1)"
   ]
  },
  {
   "cell_type": "code",
   "execution_count": null,
   "metadata": {},
   "outputs": [],
   "source": []
  },
  {
   "cell_type": "code",
   "execution_count": null,
   "metadata": {},
   "outputs": [],
   "source": []
  }
 ],
 "metadata": {
  "kernelspec": {
   "display_name": "Python 3",
   "language": "python",
   "name": "python3"
  },
  "language_info": {
   "codemirror_mode": {
    "name": "ipython",
    "version": 3
   },
   "file_extension": ".py",
   "mimetype": "text/x-python",
   "name": "python",
   "nbconvert_exporter": "python",
   "pygments_lexer": "ipython3",
   "version": "3.11.9"
  }
 },
 "nbformat": 4,
 "nbformat_minor": 4
}
